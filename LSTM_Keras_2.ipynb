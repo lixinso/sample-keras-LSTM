{
  "nbformat": 4,
  "nbformat_minor": 0,
  "metadata": {
    "colab": {
      "name": "LSTM Keras 2.ipynb",
      "version": "0.3.2",
      "provenance": [],
      "include_colab_link": true
    },
    "kernelspec": {
      "name": "python3",
      "display_name": "Python 3"
    }
  },
  "cells": [
    {
      "cell_type": "markdown",
      "metadata": {
        "id": "view-in-github",
        "colab_type": "text"
      },
      "source": [
        "<a href=\"https://colab.research.google.com/github/lixinso/sample-keras-LSTM/blob/master/LSTM_Keras_2.ipynb\" target=\"_parent\"><img src=\"https://colab.research.google.com/assets/colab-badge.svg\" alt=\"Open In Colab\"/></a>"
      ]
    },
    {
      "cell_type": "markdown",
      "metadata": {
        "id": "gbMUk3PAenyV",
        "colab_type": "text"
      },
      "source": [
        "https://kushal.xyz/2018/09/23/lstm-keras/\n",
        "\n",
        "https://machinelearningmastery.com/sequence-prediction-problems-learning-lstm-recurrent-neural-networks/\n",
        "\n",
        "https://github.com/kushalsharma/keras-lstm\n"
      ]
    },
    {
      "cell_type": "code",
      "metadata": {
        "id": "8ujCTZTXemtB",
        "colab_type": "code",
        "colab": {}
      },
      "source": [
        ""
      ],
      "execution_count": 0,
      "outputs": []
    }
  ]
}